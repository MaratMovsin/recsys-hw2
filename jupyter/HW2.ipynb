{
 "cells": [
  {
   "cell_type": "markdown",
   "metadata": {},
   "source": [
    "# Week 1 Seminar\n",
    "\n",
    "A/B experiment analysis"
   ]
  },
  {
   "cell_type": "code",
   "execution_count": 1,
   "metadata": {
    "tags": []
   },
   "outputs": [],
   "source": [
    "import glob\n",
    "from collections import namedtuple\n",
    "\n",
    "import pandas as pd\n",
    "import numpy as np\n",
    "import scipy.stats as ss\n",
    "\n",
    "import matplotlib.pyplot as plt\n",
    "\n",
    "pd.set_option(\"display.precision\", 3)\n",
    "\n",
    "%matplotlib inline"
   ]
  },
  {
   "cell_type": "code",
   "execution_count": 2,
   "metadata": {
    "tags": []
   },
   "outputs": [],
   "source": [
    "experiment = \"HW2\""
   ]
  },
  {
   "cell_type": "code",
   "execution_count": 3,
   "metadata": {
    "tags": []
   },
   "outputs": [],
   "source": [
    "data = pd.concat([\n",
    "    pd.read_json(data_path, lines=True)\n",
    "    for data_path\n",
    "    in glob.glob(\"/home/marat/RecLogs/log/data.json\")\n",
    "])\n",
    "\n",
    "data[\"treatment\"] = data[\"experiments\"].map(lambda experiments: experiments[experiment])"
   ]
  },
  {
   "cell_type": "markdown",
   "metadata": {},
   "source": [
    "## Visualize sessions"
   ]
  },
  {
   "cell_type": "code",
   "execution_count": 4,
   "metadata": {
    "tags": []
   },
   "outputs": [],
   "source": [
    "Session = namedtuple(\"Session\", [\"timestamp\", \"tracks\", \"time\", \"latency\"])\n",
    "\n",
    "def sessionize(user_data):\n",
    "    sessions = []\n",
    "    session = None\n",
    "    for _, row in user_data.sort_values(\"timestamp\").iterrows():\n",
    "        if session is None:\n",
    "            session = Session(row[\"timestamp\"], 0, 0, 0)\n",
    "        \n",
    "        session = session._replace(\n",
    "            tracks = session.tracks + 1, \n",
    "            time = session.time + row[\"time\"],\n",
    "            latency = session.latency + row[\"latency\"] * 1000,\n",
    "        )\n",
    "        \n",
    "        if row[\"message\"] == \"last\":\n",
    "            sessions.append(session._asdict())\n",
    "            session = None\n",
    "    return sessions"
   ]
  },
  {
   "cell_type": "code",
   "execution_count": 5,
   "metadata": {
    "tags": []
   },
   "outputs": [],
   "source": [
    "sessions = (\n",
    "    data\n",
    "    .groupby([\"user\", \"treatment\"])\n",
    "    .apply(sessionize)\n",
    "    .explode()\n",
    "    .apply(pd.Series)\n",
    ")"
   ]
  },
  {
   "cell_type": "markdown",
   "metadata": {},
   "source": [
    "## Analyze the experiment"
   ]
  },
  {
   "cell_type": "code",
   "execution_count": 6,
   "metadata": {
    "tags": []
   },
   "outputs": [],
   "source": [
    "user_level_data = (\n",
    "  sessions\n",
    "    .reset_index()\n",
    "    .groupby([\"user\", \"treatment\"])\n",
    "    .agg(\n",
    "        {\n",
    "            \"timestamp\": \"count\",\n",
    "            \"tracks\": \"sum\",\n",
    "            \"time\": \"sum\",\n",
    "            \"latency\": \"sum\"\n",
    "        }\n",
    "    )\n",
    ")\n",
    "\n",
    "user_level_data[\"sessions\"] = user_level_data[\"timestamp\"]\n",
    "user_level_data[\"mean_request_latency\"] = user_level_data[\"latency\"] / user_level_data[\"tracks\"]\n",
    "user_level_data[\"mean_tracks_per_session\"] = user_level_data[\"tracks\"] / user_level_data[\"sessions\"]\n",
    "user_level_data[\"mean_time_per_session\"] = user_level_data[\"time\"] / user_level_data[\"sessions\"]\n",
    "\n",
    "metrics = [\n",
    "    \"time\", \n",
    "    \"sessions\", \n",
    "    \"mean_request_latency\", \n",
    "    \"mean_tracks_per_session\", \n",
    "    \"mean_time_per_session\"\n",
    "]\n",
    "\n",
    "user_level_metrics = user_level_data[metrics].copy().reset_index()"
   ]
  },
  {
   "cell_type": "code",
   "execution_count": 7,
   "metadata": {
    "tags": []
   },
   "outputs": [],
   "source": [
    "treatment_level_metrics = (\n",
    "    user_level_metrics\n",
    "    .groupby(\"treatment\")[metrics]\n",
    "    .agg([\"count\", \"mean\", \"var\"])\n",
    ")"
   ]
  },
  {
   "cell_type": "code",
   "execution_count": 8,
   "metadata": {
    "tags": []
   },
   "outputs": [
    {
     "name": "stdout",
     "output_type": "stream",
     "text": [
      "0.8678937632871639\n",
      "0.09545590383948735\n",
      "0.1691855917206823\n",
      "0.17508410721492396\n",
      "0.17241098453034823\n"
     ]
    }
   ],
   "source": [
    "def dof(n_0, n_1, s2_0, s2_1):\n",
    "    numerator = (s2_0 / n_0 + s2_1 / n_1) * (s2_0 / n_0 + s2_1 / n_1)\n",
    "    denominator = s2_0 * s2_0 / n_0 / n_0 / (n_0 - 1) + s2_1 * s2_1 / n_1 / n_1 / (n_1 - 1)\n",
    "    return numerator / denominator\n",
    "\n",
    "\n",
    "def ci(n_0, n_1, s2_0, s2_1, alpha=0.05):\n",
    "    return ss.t.ppf(1 - alpha/2, dof(n_0, n_1, s2_0, s2_1)) * np.sqrt(s2_0 / n_0 + s2_1 / n_1)\n",
    "\n",
    "\n",
    "effects = []\n",
    "\n",
    "control = [data for treatment, data in treatment_level_metrics.iterrows() if treatment == \"C\"][0]\n",
    "\n",
    "for treatment, row in treatment_level_metrics.iterrows():\n",
    "    if treatment == \"C\":\n",
    "        continue\n",
    "    \n",
    "    for metric in metrics:\n",
    "        control_mean = control[metric][\"mean\"]\n",
    "        treatment_mean = row[metric][\"mean\"]\n",
    "        \n",
    "        effect = treatment_mean - control_mean\n",
    "        conf_int = ci(\n",
    "            control[metric][\"count\"],\n",
    "            row[metric][\"count\"],\n",
    "            control[metric][\"var\"],\n",
    "            row[metric][\"var\"],\n",
    "        )\n",
    "        print(conf_int)\n",
    "        effects.append({\n",
    "            \"treatment\": treatment,\n",
    "            \"metric\": metric,\n",
    "            \"control_mean\": control_mean,\n",
    "            \"treatment_mean\": treatment_mean,\n",
    "            \"effect\": effect / control_mean * 100,\n",
    "            \"lower\": (effect - conf_int) / control_mean * 100,\n",
    "            \"upper\": (effect + conf_int) / control_mean * 100,\n",
    "            \"significant\": (effect + conf_int) * (effect - conf_int) > 0\n",
    "        })"
   ]
  },
  {
   "cell_type": "code",
   "execution_count": 9,
   "metadata": {
    "tags": []
   },
   "outputs": [
    {
     "data": {
      "text/html": [
       "<style type=\"text/css\">\n",
       "#T_ed3c6_row0_col2, #T_ed3c6_row0_col3, #T_ed3c6_row1_col3, #T_ed3c6_row2_col2, #T_ed3c6_row2_col3, #T_ed3c6_row2_col4, #T_ed3c6_row3_col2, #T_ed3c6_row3_col3, #T_ed3c6_row3_col4, #T_ed3c6_row4_col2, #T_ed3c6_row4_col3, #T_ed3c6_row4_col4 {\n",
       "  color: green;\n",
       "}\n",
       "#T_ed3c6_row0_col4, #T_ed3c6_row1_col2, #T_ed3c6_row1_col4 {\n",
       "  color: red;\n",
       "}\n",
       "#T_ed3c6_row0_col7, #T_ed3c6_row1_col7 {\n",
       "  color: white;\n",
       "  background-color: red;\n",
       "}\n",
       "#T_ed3c6_row2_col7, #T_ed3c6_row3_col7, #T_ed3c6_row4_col7 {\n",
       "  color: white;\n",
       "  background-color: green;\n",
       "}\n",
       "</style>\n",
       "<table id=\"T_ed3c6_\">\n",
       "  <thead>\n",
       "    <tr>\n",
       "      <th class=\"blank level0\" >&nbsp;</th>\n",
       "      <th class=\"col_heading level0 col0\" >treatment</th>\n",
       "      <th class=\"col_heading level0 col1\" >metric</th>\n",
       "      <th class=\"col_heading level0 col2\" >effect</th>\n",
       "      <th class=\"col_heading level0 col3\" >upper</th>\n",
       "      <th class=\"col_heading level0 col4\" >lower</th>\n",
       "      <th class=\"col_heading level0 col5\" >control_mean</th>\n",
       "      <th class=\"col_heading level0 col6\" >treatment_mean</th>\n",
       "      <th class=\"col_heading level0 col7\" >significant</th>\n",
       "    </tr>\n",
       "  </thead>\n",
       "  <tbody>\n",
       "    <tr>\n",
       "      <th id=\"T_ed3c6_level0_row0\" class=\"row_heading level0 row0\" >0</th>\n",
       "      <td id=\"T_ed3c6_row0_col0\" class=\"data row0 col0\" >T1</td>\n",
       "      <td id=\"T_ed3c6_row0_col1\" class=\"data row0 col1\" >time</td>\n",
       "      <td id=\"T_ed3c6_row0_col2\" class=\"data row0 col2\" >4.261</td>\n",
       "      <td id=\"T_ed3c6_row0_col3\" class=\"data row0 col3\" >9.301</td>\n",
       "      <td id=\"T_ed3c6_row0_col4\" class=\"data row0 col4\" >-0.780</td>\n",
       "      <td id=\"T_ed3c6_row0_col5\" class=\"data row0 col5\" >17.219</td>\n",
       "      <td id=\"T_ed3c6_row0_col6\" class=\"data row0 col6\" >17.952</td>\n",
       "      <td id=\"T_ed3c6_row0_col7\" class=\"data row0 col7\" >False</td>\n",
       "    </tr>\n",
       "    <tr>\n",
       "      <th id=\"T_ed3c6_level0_row1\" class=\"row_heading level0 row1\" >1</th>\n",
       "      <td id=\"T_ed3c6_row1_col0\" class=\"data row1 col0\" >T1</td>\n",
       "      <td id=\"T_ed3c6_row1_col1\" class=\"data row1 col1\" >sessions</td>\n",
       "      <td id=\"T_ed3c6_row1_col2\" class=\"data row1 col2\" >-0.228</td>\n",
       "      <td id=\"T_ed3c6_row1_col3\" class=\"data row1 col3\" >2.051</td>\n",
       "      <td id=\"T_ed3c6_row1_col4\" class=\"data row1 col4\" >-2.508</td>\n",
       "      <td id=\"T_ed3c6_row1_col5\" class=\"data row1 col5\" >4.188</td>\n",
       "      <td id=\"T_ed3c6_row1_col6\" class=\"data row1 col6\" >4.178</td>\n",
       "      <td id=\"T_ed3c6_row1_col7\" class=\"data row1 col7\" >False</td>\n",
       "    </tr>\n",
       "    <tr>\n",
       "      <th id=\"T_ed3c6_level0_row2\" class=\"row_heading level0 row2\" >3</th>\n",
       "      <td id=\"T_ed3c6_row2_col0\" class=\"data row2 col0\" >T1</td>\n",
       "      <td id=\"T_ed3c6_row2_col1\" class=\"data row2 col1\" >mean_tracks_per_session</td>\n",
       "      <td id=\"T_ed3c6_row2_col2\" class=\"data row2 col2\" >2.077</td>\n",
       "      <td id=\"T_ed3c6_row2_col3\" class=\"data row2 col3\" >3.997</td>\n",
       "      <td id=\"T_ed3c6_row2_col4\" class=\"data row2 col4\" >0.158</td>\n",
       "      <td id=\"T_ed3c6_row2_col5\" class=\"data row2 col5\" >9.120</td>\n",
       "      <td id=\"T_ed3c6_row2_col6\" class=\"data row2 col6\" >9.310</td>\n",
       "      <td id=\"T_ed3c6_row2_col7\" class=\"data row2 col7\" >True</td>\n",
       "    </tr>\n",
       "    <tr>\n",
       "      <th id=\"T_ed3c6_level0_row3\" class=\"row_heading level0 row3\" >4</th>\n",
       "      <td id=\"T_ed3c6_row3_col0\" class=\"data row3 col0\" >T1</td>\n",
       "      <td id=\"T_ed3c6_row3_col1\" class=\"data row3 col1\" >mean_time_per_session</td>\n",
       "      <td id=\"T_ed3c6_row3_col2\" class=\"data row3 col2\" >4.850</td>\n",
       "      <td id=\"T_ed3c6_row3_col3\" class=\"data row3 col3\" >9.043</td>\n",
       "      <td id=\"T_ed3c6_row3_col4\" class=\"data row3 col4\" >0.656</td>\n",
       "      <td id=\"T_ed3c6_row3_col5\" class=\"data row3 col5\" >4.111</td>\n",
       "      <td id=\"T_ed3c6_row3_col6\" class=\"data row3 col6\" >4.311</td>\n",
       "      <td id=\"T_ed3c6_row3_col7\" class=\"data row3 col7\" >True</td>\n",
       "    </tr>\n",
       "    <tr>\n",
       "      <th id=\"T_ed3c6_level0_row4\" class=\"row_heading level0 row4\" >2</th>\n",
       "      <td id=\"T_ed3c6_row4_col0\" class=\"data row4 col0\" >T1</td>\n",
       "      <td id=\"T_ed3c6_row4_col1\" class=\"data row4 col1\" >mean_request_latency</td>\n",
       "      <td id=\"T_ed3c6_row4_col2\" class=\"data row4 col2\" >1782.585</td>\n",
       "      <td id=\"T_ed3c6_row4_col3\" class=\"data row4 col3\" >1809.691</td>\n",
       "      <td id=\"T_ed3c6_row4_col4\" class=\"data row4 col4\" >1755.479</td>\n",
       "      <td id=\"T_ed3c6_row4_col5\" class=\"data row4 col5\" >0.624</td>\n",
       "      <td id=\"T_ed3c6_row4_col6\" class=\"data row4 col6\" >11.750</td>\n",
       "      <td id=\"T_ed3c6_row4_col7\" class=\"data row4 col7\" >True</td>\n",
       "    </tr>\n",
       "  </tbody>\n",
       "</table>\n"
      ],
      "text/plain": [
       "<pandas.io.formats.style.Styler at 0x7fa96e746f40>"
      ]
     },
     "execution_count": 9,
     "metadata": {},
     "output_type": "execute_result"
    }
   ],
   "source": [
    "def color(value):\n",
    "    return 'color:red;' if value < 0 else 'color:green;'\n",
    "\n",
    "def background(value):\n",
    "    return 'color:white;background-color:green' if value else 'color:white;background-color:red'\n",
    "        \n",
    "\n",
    "(\n",
    "    pd.DataFrame(effects)[[\n",
    "        \"treatment\", \n",
    "        \"metric\",\n",
    "        \"effect\", \n",
    "        \"upper\", \n",
    "        \"lower\", \n",
    "        \"control_mean\", \n",
    "        \"treatment_mean\",\n",
    "        \"significant\"\n",
    "    ]]\n",
    "    .sort_values([\"metric\", \"treatment\"], ascending=False)\n",
    "    .style\n",
    "    .applymap(color, subset=[\"effect\", \"upper\", \"lower\"])\n",
    "    .applymap(background, subset=[\"significant\"])\n",
    ")"
   ]
  },
  {
   "cell_type": "code",
   "execution_count": null,
   "metadata": {},
   "outputs": [],
   "source": []
  }
 ],
 "metadata": {
  "kernelspec": {
   "display_name": "Python 3 (ipykernel)",
   "language": "python",
   "name": "python3"
  },
  "language_info": {
   "codemirror_mode": {
    "name": "ipython",
    "version": 3
   },
   "file_extension": ".py",
   "mimetype": "text/x-python",
   "name": "python",
   "nbconvert_exporter": "python",
   "pygments_lexer": "ipython3",
   "version": "3.9.2"
  }
 },
 "nbformat": 4,
 "nbformat_minor": 4
}
